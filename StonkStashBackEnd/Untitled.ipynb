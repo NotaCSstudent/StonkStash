{
 "cells": [
  {
   "cell_type": "code",
   "execution_count": null,
   "metadata": {},
   "outputs": [],
   "source": []
  },
  {
   "cell_type": "code",
   "execution_count": 4,
   "metadata": {},
   "outputs": [
    {
     "name": "stdout",
     "output_type": "stream",
     "text": [
      "Input a stock name and a specific date\n",
      "format: NAME, yr-mon-day: AAL, 2017-09-23\n",
      "High: Series([], Name: high, dtype: float64)\n",
      "Low: Series([], Name: low, dtype: float64)\n",
      "\n"
     ]
    },
    {
     "data": {
      "image/png": "[encoded data removed]",
      "text/plain": [
       "<Figure size 720x360 with 1 Axes>"
      ]
     },
     "metadata": {
      "needs_background": "light"
     },
     "output_type": "display_data"
    },
    {
     "name": "stdout",
     "output_type": "stream",
     "text": [
      "Hello World\n"
     ]
    }
   ],
   "source": [
    "import sciencestuff as coolbeans\n",
    "\n",
    "\n",
    "\n",
    "print(\"Hello World\")"
   ]
  },
  {
   "cell_type": "code",
   "execution_count": 7,
   "metadata": {},
   "outputs": [
    {
     "name": "stdout",
     "output_type": "stream",
     "text": [
      "This stock is high risk\n",
      "Hello World\n"
     ]
    }
   ],
   "source": [
    "##import sciencestuff as coolbeans\n",
    "import numpy as np ## feel free to comment this out\n",
    "\n",
    "\n",
    "'''okay so to calculate the volitility i need you to use these functions with the csv file. I will also provide a definition.\n",
    "\n",
    "Volitiy is basically how risky a stock is, does it have huge risk? or low risk? thats what volitily will tell us. Below will be a function to help us find volitilty.'''\n",
    "\n",
    "def riskyboi(arr): ##it will take a list as a input\n",
    "    riskystocks = np.array(arr);## we basically created a numpy array with np.array\n",
    "    riskyboicalc = np.std(riskystocks); ## Standard deviation for the array\n",
    "    '''for this, it should be a simple calculation. All we need is the standard deviation. Also we're gonna be a little conserviative for risk factor. \n",
    "    if the std deviation is above 0.5 thats high risk\n",
    "    else if its lower than 0.5 its low risk '''\n",
    "    if(riskyboicalc >= 0.5):\n",
    "        return \"This stock is high risk\";\n",
    "    else:\n",
    "        return \"This stock is low risk\";\n",
    "\n",
    "###BELOW IS JUST TESTS\n",
    "list = [1,2,3,4,5] \n",
    "\n",
    "g = riskyboi(list)\n",
    "print(g)\n",
    "    \n",
    "    \n",
    "\n",
    "\n",
    "print(\"Hello World\")\n",
    "\n"
   ]
  },
  {
   "cell_type": "code",
   "execution_count": null,
   "metadata": {},
   "outputs": [],
   "source": []
  }
 ],
 "metadata": {
  "kernelspec": {
   "display_name": "Python 3",
   "language": "python",
   "name": "python3"
  },
  "language_info": {
   "codemirror_mode": {
    "name": "ipython",
    "version": 3
   },
   "file_extension": ".py",
   "mimetype": "text/x-python",
   "name": "python",
   "nbconvert_exporter": "python",
   "pygments_lexer": "ipython3",
   "version": "3.9.0"
  }
 },
 "nbformat": 4,
 "nbformat_minor": 4
}
